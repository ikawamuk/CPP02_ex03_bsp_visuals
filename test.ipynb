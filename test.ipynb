{
 "cells": [
  {
   "cell_type": "code",
   "execution_count": null,
   "id": "e53a670a",
   "metadata": {},
   "outputs": [],
   "source": [
    "import pandas as pd # type: ignore\n",
    "import matplotlib.pyplot as plt # type: ignore\n",
    "import matplotlib.ticker as mticker # type: ignore"
   ]
  },
  {
   "cell_type": "code",
   "execution_count": null,
   "id": "29465dad",
   "metadata": {},
   "outputs": [],
   "source": [
    "path = \"test1.csv\"\n",
    "data = pd.read_csv(path)\n",
    "b = data[\"boolean\"].astype(str).str.strip().str.lower()\n",
    "colors = b.map({\"true\": \"blue\", \"false\": \"red\"})"
   ]
  },
  {
   "cell_type": "code",
   "execution_count": null,
   "id": "703e1d03",
   "metadata": {},
   "outputs": [],
   "source": [
    "fig, ax = plt.subplots(figsize=(10, 8), dpi=150)\n",
    "ax.scatter(data[\"x\"], data[\"y\"], c=colors, s=1)\n",
    "plt.title(f\"{path} points\")\n",
    "plt.xlabel(\"x\")\n",
    "plt.ylabel(\"y\")\n",
    "ax.xaxis.set_major_locator(mticker.MaxNLocator(nbins=20))\n",
    "ax.yaxis.set_major_locator(mticker.MaxNLocator(nbins=20))\n",
    "ax.grid(True, which=\"major\", linewidth=1)\n",
    "ax.grid(True, which=\"minor\", linewidth=0.5)\n",
    "ax.grid(True, which='major', alpha=0.25, linewidth=0.4)\n",
    "plt.grid(True)\n",
    "plt.tight_layout()\n",
    "plt.show()"
   ]
  }
 ],
 "metadata": {
  "kernelspec": {
   "display_name": "myenv",
   "language": "python",
   "name": "python3"
  },
  "language_info": {
   "codemirror_mode": {
    "name": "ipython",
    "version": 3
   },
   "file_extension": ".py",
   "mimetype": "text/x-python",
   "name": "python",
   "nbconvert_exporter": "python",
   "pygments_lexer": "ipython3",
   "version": "3.10.12"
  }
 },
 "nbformat": 4,
 "nbformat_minor": 5
}
